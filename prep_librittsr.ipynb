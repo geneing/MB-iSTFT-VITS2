{
 "cells": [
  {
   "cell_type": "code",
   "execution_count": 1,
   "metadata": {},
   "outputs": [],
   "source": [
    "import os\n",
    "import glob\n",
    "import numpy as np\n",
    "import csv\n",
    "root=\"/export/eingerman/audio/LibriTTSR/train-clean-460/\""
   ]
  },
  {
   "cell_type": "code",
   "execution_count": 21,
   "metadata": {},
   "outputs": [],
   "source": [
    "with open(\"filelists/libritts_audio_sid_text_all_filelist.txt\",'w') as fout, open(\"filelists/libritts_badlist.txt\",'w') as fbad:\n",
    "    all_speaker_dirs=[path for path in glob.glob(\"*\",root_dir=root) if os.path.isdir(root+path)]\n",
    "    for speaker in all_speaker_dirs:\n",
    "        speaker=speaker.strip()\n",
    "        speaker_path=root+speaker\n",
    "        all_book_paths = [path for path in glob.glob(f\"{speaker_path}/*\") if os.path.isdir(path)]\n",
    "        for book_path in all_book_paths:\n",
    "            wav_paths = sorted(glob.glob(f\"{book_path}/*.wav\"))     \n",
    "            for wp in wav_paths:\n",
    "                (basename,_)=os.path.splitext(wp)\n",
    "                try:\n",
    "                    with open(f\"{basename}.normalized.txt\", 'r') as f:\n",
    "                        normed_text=f.read().strip()\n",
    "                        wav_path=f\"{basename}.wav\"\n",
    "                        fout.write(f\"{wav_path}|{speaker}|{normed_text}\\n\")\n",
    "                except:\n",
    "                    fbad.write(f\"{basename}\\n\")\n"
   ]
  },
  {
   "cell_type": "code",
   "execution_count": 2,
   "metadata": {},
   "outputs": [],
   "source": [
    "speakers_file = root + \"speakers.tsv\"\n",
    "speakers = csv.reader(open(speakers_file), delimiter='\\t')\n",
    "header = next(speakers, None)\n",
    "speaker_map={}\n",
    "for i, sp in enumerate(speakers):\n",
    "    speaker_map[sp[0]]=i"
   ]
  },
  {
   "cell_type": "code",
   "execution_count": 27,
   "metadata": {},
   "outputs": [
    {
     "data": {
      "text/plain": [
       "2484"
      ]
     },
     "execution_count": 27,
     "metadata": {},
     "output_type": "execute_result"
    }
   ],
   "source": []
  },
  {
   "cell_type": "code",
   "execution_count": 3,
   "metadata": {},
   "outputs": [],
   "source": [
    "def fix_speaker(line):\n",
    "    (wav_path,speaker,text)=line.strip().split('|')\n",
    "    speaker_id = speaker_map[speaker]\n",
    "    return f\"{wav_path}|{speaker_id}|{text}\\n\"\n",
    "\n",
    "# base = \"libritts_audio_sid_text\"\n",
    "base=\"libritts_audio_sid_grapheme\"\n",
    "\n",
    "root_text=\"/rhome/eingerman/Projects/DeepLearning/TTS/MB-iSTFT-VITS2/\"\n",
    "cleaned_path=f\"filelists/{base}_all_filelist.txt.cleaned\"\n",
    "train_path=f\"filelists/{base}_train_filelist.txt.cleaned\"\n",
    "test_path=f\"filelists/{base}_test_filelist.txt.cleaned\"\n",
    "val_path=f\"filelists/{base}_val_filelist.txt.cleaned\"\n",
    "\n",
    "\n",
    "\n",
    "with open(cleaned_path,'r') as fin, open(train_path,'w') as ftrain, open(test_path,'w') as ftest, open(val_path,'w') as fval:\n",
    "    all_lines=fin.readlines()\n",
    "    nlines = len(all_lines)\n",
    "    indices = np.arange(nlines)\n",
    "    np.random.shuffle(indices)\n",
    "    for i in indices[0:500]:\n",
    "        ftest.write(fix_speaker(all_lines[i]))\n",
    "    for i in indices[500:600]:\n",
    "        fval.write(fix_speaker(all_lines[i]))\n",
    "    for i in indices[600:]:\n",
    "        ftrain.write(fix_speaker(all_lines[i]))\n"
   ]
  },
  {
   "cell_type": "code",
   "execution_count": 14,
   "metadata": {},
   "outputs": [],
   "source": [
    "for l in all_lines:\n",
    "    if len(l.split('|'))!=3:\n",
    "        print(f\"{l=}\")\n",
    "        break\n"
   ]
  },
  {
   "cell_type": "code",
   "execution_count": null,
   "metadata": {},
   "outputs": [],
   "source": [
    "libritts_audio_sid_grapheme_all_filelist.txt\n",
    "\n"
   ]
  }
 ],
 "metadata": {
  "kernelspec": {
   "display_name": "python3.10",
   "language": "python",
   "name": "python3"
  },
  "language_info": {
   "codemirror_mode": {
    "name": "ipython",
    "version": 3
   },
   "file_extension": ".py",
   "mimetype": "text/x-python",
   "name": "python",
   "nbconvert_exporter": "python",
   "pygments_lexer": "ipython3",
   "version": "3.10.14"
  }
 },
 "nbformat": 4,
 "nbformat_minor": 2
}
