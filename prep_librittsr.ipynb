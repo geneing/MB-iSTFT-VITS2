{
 "cells": [
  {
   "cell_type": "code",
   "execution_count": 16,
   "metadata": {},
   "outputs": [],
   "source": [
    "import os\n",
    "import glob\n",
    "import numpy as np\n",
    "import csv\n",
    "root=\"/export/eingerman/audio/LibriTTSR/train-clean-460/\""
   ]
  },
  {
   "cell_type": "code",
   "execution_count": 21,
   "metadata": {},
   "outputs": [],
   "source": [
    "with open(\"filelists/libritts_audio_sid_text_all_filelist.txt\",'w') as fout, open(\"filelists/libritts_badlist.txt\",'w') as fbad:\n",
    "    all_speaker_dirs=[path for path in glob.glob(\"*\",root_dir=root) if os.path.isdir(root+path)]\n",
    "    for speaker in all_speaker_dirs:\n",
    "        speaker=speaker.strip()\n",
    "        speaker_path=root+speaker\n",
    "        all_book_paths = [path for path in glob.glob(f\"{speaker_path}/*\") if os.path.isdir(path)]\n",
    "        for book_path in all_book_paths:\n",
    "            wav_paths = sorted(glob.glob(f\"{book_path}/*.wav\"))     \n",
    "            for wp in wav_paths:\n",
    "                (basename,_)=os.path.splitext(wp)\n",
    "                try:\n",
    "                    with open(f\"{basename}.normalized.txt\", 'r') as f:\n",
    "                        normed_text=f.read().strip()\n",
    "                        wav_path=f\"{basename}.wav\"\n",
    "                        fout.write(f\"{wav_path}|{speaker}|{normed_text}\\n\")\n",
    "                except:\n",
    "                    fbad.write(f\"{basename}\\n\")\n"
   ]
  },
  {
   "cell_type": "code",
   "execution_count": 25,
   "metadata": {},
   "outputs": [],
   "source": [
    "speakers_file = root + \"speakers.tsv\"\n",
    "speakers = csv.reader(open(speakers_file), delimiter='\\t')\n",
    "header = next(speakers, None)\n",
    "speaker_map={}\n",
    "for i, sp in enumerate(speakers):\n",
    "    speaker_map[sp[0]]=i"
   ]
  },
  {
   "cell_type": "code",
   "execution_count": 27,
   "metadata": {},
   "outputs": [
    {
     "data": {
      "text/plain": [
       "2484"
      ]
     },
     "execution_count": 27,
     "metadata": {},
     "output_type": "execute_result"
    }
   ],
   "source": []
  },
  {
   "cell_type": "code",
   "execution_count": 28,
   "metadata": {},
   "outputs": [],
   "source": [
    "def fix_speaker(line):\n",
    "    (wav_path,speaker,text)=line.strip().split('|')\n",
    "    speaker_id = speaker_map[speaker]\n",
    "    return f\"{wav_path}|{speaker_id}|{text}\\n\"\n",
    "\n",
    "\n",
    "root_text=\"/rhome/eingerman/Projects/DeepLearning/TTS/MB-iSTFT-VITS2/\"\n",
    "cleaned_path=\"filelists/libritts_audio_sid_text_all_filelist.txt.cleaned\"\n",
    "train_path=\"filelists/libritts_audio_sid_text_train_filelist.txt.cleaned\"\n",
    "test_path=\"filelists/libritts_audio_sid_text_test_filelist.txt.cleaned\"\n",
    "val_path=\"filelists/libritts_audio_sid_text_val_filelist.txt.cleaned\"\n",
    "\n",
    "\n",
    "\n",
    "with open(cleaned_path,'r') as fin, open(train_path,'w') as ftrain, open(test_path,'w') as ftest, open(val_path,'w') as fval:\n",
    "    all_lines=fin.readlines()\n",
    "    nlines = len(all_lines)\n",
    "    indices = np.arange(nlines)\n",
    "    np.random.shuffle(indices)\n",
    "    for i in indices[0:500]:\n",
    "        ftest.write(fix_speaker(all_lines[i]))\n",
    "    for i in indices[500:600]:\n",
    "        fval.write(fix_speaker(all_lines[i]))\n",
    "    for i in indices[600:]:\n",
    "        ftrain.write(fix_speaker(all_lines[i]))\n"
   ]
  },
  {
   "cell_type": "code",
   "execution_count": 14,
   "metadata": {},
   "outputs": [],
   "source": [
    "for l in all_lines:\n",
    "    if len(l.split('|'))!=3:\n",
    "        print(f\"{l=}\")\n",
    "        break\n"
   ]
  },
  {
   "cell_type": "code",
   "execution_count": null,
   "metadata": {},
   "outputs": [
    {
     "ename": "",
     "evalue": "",
     "output_type": "error",
     "traceback": [
      "\u001b[1;31mRunning cells with 'vits2 (Python 3.10.13)' requires the ipykernel package.\n",
      "\u001b[1;31mRun the following command to install 'ipykernel' into the Python environment. \n",
      "\u001b[1;31mCommand: 'conda install -n vits2 ipykernel --update-deps --force-reinstall'"
     ]
    }
   ],
   "source": [
    "import sklearn"
   ]
  },
  {
   "cell_type": "code",
   "execution_count": 13,
   "metadata": {},
   "outputs": [
    {
     "data": {
      "text/plain": [
       "['/export/eingerman/audio/LibriTTSR/train-clean-460/1556/139350/1556_139350_000006_000000.wav',\n",
       " '/export/eingerman/audio/LibriTTSR/train-clean-460/1556/139350/1556_139350_000015_000000.wav',\n",
       " '/export/eingerman/audio/LibriTTSR/train-clean-460/1556/139350/1556_139350_000019_000000.wav',\n",
       " '/export/eingerman/audio/LibriTTSR/train-clean-460/1556/139350/1556_139350_000024_000001.wav',\n",
       " '/export/eingerman/audio/LibriTTSR/train-clean-460/1556/139350/1556_139350_000026_000000.wav',\n",
       " '/export/eingerman/audio/LibriTTSR/train-clean-460/1556/139350/1556_139350_000030_000000.wav']"
      ]
     },
     "execution_count": 13,
     "metadata": {},
     "output_type": "execute_result"
    }
   ],
   "source": [
    "\n",
    "wav_paths"
   ]
  },
  {
   "cell_type": "code",
   "execution_count": 18,
   "metadata": {},
   "outputs": [
    {
     "name": "stdout",
     "output_type": "stream",
     "text": [
      "The principal habitation, with its annexes--kitchen, offices, and cellars--was placed in the rear--or, let us say, stern of the craft--and formed a part reserved for the Garral family and their personal servants.\n"
     ]
    }
   ],
   "source": [
    "\n",
    "    "
   ]
  }
 ],
 "metadata": {
  "kernelspec": {
   "display_name": "python3.10",
   "language": "python",
   "name": "python3"
  },
  "language_info": {
   "codemirror_mode": {
    "name": "ipython",
    "version": 3
   },
   "file_extension": ".py",
   "mimetype": "text/x-python",
   "name": "python",
   "nbconvert_exporter": "python",
   "pygments_lexer": "ipython3",
   "version": "3.10.13"
  }
 },
 "nbformat": 4,
 "nbformat_minor": 2
}
